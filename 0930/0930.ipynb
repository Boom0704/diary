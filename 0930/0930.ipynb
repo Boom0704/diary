{
 "cells": [
  {
   "cell_type": "code",
   "execution_count": 2,
   "id": "046fb6e7-41e4-465c-afd2-a1a9d5e17f25",
   "metadata": {},
   "outputs": [
    {
     "name": "stdout",
     "output_type": "stream",
     "text": [
      "Requirement already satisfied: pandas in /opt/anaconda3/lib/python3.12/site-packages (2.2.2)\n",
      "Requirement already satisfied: numpy>=1.26.0 in /opt/anaconda3/lib/python3.12/site-packages (from pandas) (1.26.4)\n",
      "Requirement already satisfied: python-dateutil>=2.8.2 in /opt/anaconda3/lib/python3.12/site-packages (from pandas) (2.9.0.post0)\n",
      "Requirement already satisfied: pytz>=2020.1 in /opt/anaconda3/lib/python3.12/site-packages (from pandas) (2024.1)\n",
      "Requirement already satisfied: tzdata>=2022.7 in /opt/anaconda3/lib/python3.12/site-packages (from pandas) (2023.3)\n",
      "Requirement already satisfied: six>=1.5 in /opt/anaconda3/lib/python3.12/site-packages (from python-dateutil>=2.8.2->pandas) (1.16.0)\n"
     ]
    }
   ],
   "source": [
    "!pip install pandas"
   ]
  },
  {
   "cell_type": "code",
   "execution_count": 4,
   "id": "6bb3ee20-cc99-4e1b-8be1-b522c829f02d",
   "metadata": {},
   "outputs": [
    {
     "name": "stdout",
     "output_type": "stream",
     "text": [
      "Requirement already satisfied: matplotlib in /opt/anaconda3/lib/python3.12/site-packages (3.8.4)\n",
      "Requirement already satisfied: contourpy>=1.0.1 in /opt/anaconda3/lib/python3.12/site-packages (from matplotlib) (1.2.0)\n",
      "Requirement already satisfied: cycler>=0.10 in /opt/anaconda3/lib/python3.12/site-packages (from matplotlib) (0.11.0)\n",
      "Requirement already satisfied: fonttools>=4.22.0 in /opt/anaconda3/lib/python3.12/site-packages (from matplotlib) (4.51.0)\n",
      "Requirement already satisfied: kiwisolver>=1.3.1 in /opt/anaconda3/lib/python3.12/site-packages (from matplotlib) (1.4.4)\n",
      "Requirement already satisfied: numpy>=1.21 in /opt/anaconda3/lib/python3.12/site-packages (from matplotlib) (1.26.4)\n",
      "Requirement already satisfied: packaging>=20.0 in /opt/anaconda3/lib/python3.12/site-packages (from matplotlib) (23.2)\n",
      "Requirement already satisfied: pillow>=8 in /opt/anaconda3/lib/python3.12/site-packages (from matplotlib) (10.3.0)\n",
      "Requirement already satisfied: pyparsing>=2.3.1 in /opt/anaconda3/lib/python3.12/site-packages (from matplotlib) (3.0.9)\n",
      "Requirement already satisfied: python-dateutil>=2.7 in /opt/anaconda3/lib/python3.12/site-packages (from matplotlib) (2.9.0.post0)\n",
      "Requirement already satisfied: six>=1.5 in /opt/anaconda3/lib/python3.12/site-packages (from python-dateutil>=2.7->matplotlib) (1.16.0)\n"
     ]
    }
   ],
   "source": [
    "!pip install matplotlib"
   ]
  },
  {
   "cell_type": "code",
   "execution_count": null,
   "id": "1bf4f7cf-f1be-4699-a824-5e258e1a42bb",
   "metadata": {},
   "outputs": [],
   "source": [
    "!pip install "
   ]
  },
  {
   "cell_type": "code",
   "execution_count": 39,
   "id": "97edc044-07ba-40e2-9914-fa78ac600678",
   "metadata": {},
   "outputs": [],
   "source": [
    "import pandas as pd"
   ]
  },
  {
   "cell_type": "code",
   "execution_count": 41,
   "id": "40d0d515-d32f-4adc-89e0-2fc538f3d54d",
   "metadata": {},
   "outputs": [
    {
     "data": {
      "text/html": [
       "<div>\n",
       "<style scoped>\n",
       "    .dataframe tbody tr th:only-of-type {\n",
       "        vertical-align: middle;\n",
       "    }\n",
       "\n",
       "    .dataframe tbody tr th {\n",
       "        vertical-align: top;\n",
       "    }\n",
       "\n",
       "    .dataframe thead th {\n",
       "        text-align: right;\n",
       "    }\n",
       "</style>\n",
       "<table border=\"1\" class=\"dataframe\">\n",
       "  <thead>\n",
       "    <tr style=\"text-align: right;\">\n",
       "      <th></th>\n",
       "      <th>name</th>\n",
       "      <th>age</th>\n",
       "    </tr>\n",
       "  </thead>\n",
       "  <tbody>\n",
       "    <tr>\n",
       "      <th>0</th>\n",
       "      <td>nick</td>\n",
       "      <td>10</td>\n",
       "    </tr>\n",
       "    <tr>\n",
       "      <th>1</th>\n",
       "      <td>judy</td>\n",
       "      <td>15</td>\n",
       "    </tr>\n",
       "    <tr>\n",
       "      <th>2</th>\n",
       "      <td>alex</td>\n",
       "      <td>20</td>\n",
       "    </tr>\n",
       "  </tbody>\n",
       "</table>\n",
       "</div>"
      ],
      "text/plain": [
       "   name  age\n",
       "0  nick   10\n",
       "1  judy   15\n",
       "2  alex   20"
      ]
     },
     "execution_count": 41,
     "metadata": {},
     "output_type": "execute_result"
    }
   ],
   "source": [
    "data= {\"name\":[\"nick\", \"judy\", \"alex\"],\n",
    "       \"age\":[10, 15, 20]}\n",
    "df = pd.DataFrame(data)\n",
    "data\n",
    "df"
   ]
  },
  {
   "cell_type": "code",
   "execution_count": 12,
   "id": "186588b5-42b3-4462-9c35-d1fc37521b03",
   "metadata": {},
   "outputs": [
    {
     "data": {
      "text/html": [
       "<div>\n",
       "<style scoped>\n",
       "    .dataframe tbody tr th:only-of-type {\n",
       "        vertical-align: middle;\n",
       "    }\n",
       "\n",
       "    .dataframe tbody tr th {\n",
       "        vertical-align: top;\n",
       "    }\n",
       "\n",
       "    .dataframe thead th {\n",
       "        text-align: right;\n",
       "    }\n",
       "</style>\n",
       "<table border=\"1\" class=\"dataframe\">\n",
       "  <thead>\n",
       "    <tr style=\"text-align: right;\">\n",
       "      <th></th>\n",
       "      <th>name</th>\n",
       "      <th>age</th>\n",
       "      <th>age_plus</th>\n",
       "      <th>age_squared</th>\n",
       "    </tr>\n",
       "  </thead>\n",
       "  <tbody>\n",
       "    <tr>\n",
       "      <th>0</th>\n",
       "      <td>nick</td>\n",
       "      <td>10</td>\n",
       "      <td>11</td>\n",
       "      <td>100</td>\n",
       "    </tr>\n",
       "    <tr>\n",
       "      <th>1</th>\n",
       "      <td>judy</td>\n",
       "      <td>15</td>\n",
       "      <td>16</td>\n",
       "      <td>225</td>\n",
       "    </tr>\n",
       "    <tr>\n",
       "      <th>2</th>\n",
       "      <td>alex</td>\n",
       "      <td>20</td>\n",
       "      <td>21</td>\n",
       "      <td>400</td>\n",
       "    </tr>\n",
       "  </tbody>\n",
       "</table>\n",
       "</div>"
      ],
      "text/plain": [
       "   name  age  age_plus  age_squared\n",
       "0  nick   10        11          100\n",
       "1  judy   15        16          225\n",
       "2  alex   20        21          400"
      ]
     },
     "execution_count": 12,
     "metadata": {},
     "output_type": "execute_result"
    }
   ],
   "source": [
    "df['age_plus'] = df['age'] + 1\n",
    "df['age_squared'] = df['age'] * df['age']\n",
    "df"
   ]
  },
  {
   "cell_type": "code",
   "execution_count": 14,
   "id": "bd7e6d8c-e591-489e-957b-f297c48016ac",
   "metadata": {},
   "outputs": [
    {
     "data": {
      "text/html": [
       "<div>\n",
       "<style scoped>\n",
       "    .dataframe tbody tr th:only-of-type {\n",
       "        vertical-align: middle;\n",
       "    }\n",
       "\n",
       "    .dataframe tbody tr th {\n",
       "        vertical-align: top;\n",
       "    }\n",
       "\n",
       "    .dataframe thead th {\n",
       "        text-align: right;\n",
       "    }\n",
       "</style>\n",
       "<table border=\"1\" class=\"dataframe\">\n",
       "  <thead>\n",
       "    <tr style=\"text-align: right;\">\n",
       "      <th></th>\n",
       "      <th>age</th>\n",
       "      <th>age_plus</th>\n",
       "      <th>age_squared</th>\n",
       "      <th>height</th>\n",
       "      <th>gender</th>\n",
       "    </tr>\n",
       "    <tr>\n",
       "      <th>name</th>\n",
       "      <th></th>\n",
       "      <th></th>\n",
       "      <th></th>\n",
       "      <th></th>\n",
       "      <th></th>\n",
       "    </tr>\n",
       "  </thead>\n",
       "  <tbody>\n",
       "    <tr>\n",
       "      <th>nick</th>\n",
       "      <td>10</td>\n",
       "      <td>11</td>\n",
       "      <td>100</td>\n",
       "      <td>180</td>\n",
       "      <td>M</td>\n",
       "    </tr>\n",
       "    <tr>\n",
       "      <th>judy</th>\n",
       "      <td>15</td>\n",
       "      <td>16</td>\n",
       "      <td>225</td>\n",
       "      <td>165</td>\n",
       "      <td>F</td>\n",
       "    </tr>\n",
       "    <tr>\n",
       "      <th>alex</th>\n",
       "      <td>20</td>\n",
       "      <td>21</td>\n",
       "      <td>400</td>\n",
       "      <td>175</td>\n",
       "      <td>M</td>\n",
       "    </tr>\n",
       "  </tbody>\n",
       "</table>\n",
       "</div>"
      ],
      "text/plain": [
       "      age  age_plus  age_squared  height gender\n",
       "name                                           \n",
       "nick   10        11          100     180      M\n",
       "judy   15        16          225     165      F\n",
       "alex   20        21          400     175      M"
      ]
     },
     "execution_count": 14,
     "metadata": {},
     "output_type": "execute_result"
    }
   ],
   "source": [
    "df2 = pd.DataFrame({  \"name\" : [\"nick\", \"judy\", \"alex\"]\n",
    "                    , \"height\" : [180, 165, 175]\n",
    "                    , \"gender\" : [\"M\", \"F\", \"M\"]})\n",
    "joined = df.set_index(\"name\").join(df2.set_index(\"name\"))\n",
    "joined"
   ]
  },
  {
   "cell_type": "code",
   "execution_count": 16,
   "id": "a1f9786a-52f5-46db-9b6f-11a5ea0d93cf",
   "metadata": {},
   "outputs": [],
   "source": [
    "df_mean = joined.groupby(\"gender\").mean()"
   ]
  },
  {
   "cell_type": "code",
   "execution_count": 28,
   "id": "d8a77e76-5d89-4d74-b51f-2cfbb6c6a09f",
   "metadata": {},
   "outputs": [
    {
     "name": "stdout",
     "output_type": "stream",
     "text": [
      "Collecting finance-datareader\n",
      "  Downloading finance_datareader-0.9.94-py3-none-any.whl.metadata (466 bytes)\n",
      "Requirement already satisfied: pandas>=0.19.2 in /opt/anaconda3/lib/python3.12/site-packages (from finance-datareader) (2.2.2)\n",
      "Requirement already satisfied: requests>=2.3.0 in /opt/anaconda3/lib/python3.12/site-packages (from finance-datareader) (2.32.2)\n",
      "Requirement already satisfied: requests-file in /opt/anaconda3/lib/python3.12/site-packages (from finance-datareader) (1.5.1)\n",
      "Requirement already satisfied: lxml in /opt/anaconda3/lib/python3.12/site-packages (from finance-datareader) (5.2.1)\n",
      "Requirement already satisfied: tqdm in /opt/anaconda3/lib/python3.12/site-packages (from finance-datareader) (4.66.4)\n",
      "Requirement already satisfied: numpy>=1.26.0 in /opt/anaconda3/lib/python3.12/site-packages (from pandas>=0.19.2->finance-datareader) (1.26.4)\n",
      "Requirement already satisfied: python-dateutil>=2.8.2 in /opt/anaconda3/lib/python3.12/site-packages (from pandas>=0.19.2->finance-datareader) (2.9.0.post0)\n",
      "Requirement already satisfied: pytz>=2020.1 in /opt/anaconda3/lib/python3.12/site-packages (from pandas>=0.19.2->finance-datareader) (2024.1)\n",
      "Requirement already satisfied: tzdata>=2022.7 in /opt/anaconda3/lib/python3.12/site-packages (from pandas>=0.19.2->finance-datareader) (2023.3)\n",
      "Requirement already satisfied: charset-normalizer<4,>=2 in /opt/anaconda3/lib/python3.12/site-packages (from requests>=2.3.0->finance-datareader) (2.0.4)\n",
      "Requirement already satisfied: idna<4,>=2.5 in /opt/anaconda3/lib/python3.12/site-packages (from requests>=2.3.0->finance-datareader) (3.7)\n",
      "Requirement already satisfied: urllib3<3,>=1.21.1 in /opt/anaconda3/lib/python3.12/site-packages (from requests>=2.3.0->finance-datareader) (2.2.2)\n",
      "Requirement already satisfied: certifi>=2017.4.17 in /opt/anaconda3/lib/python3.12/site-packages (from requests>=2.3.0->finance-datareader) (2024.8.30)\n",
      "Requirement already satisfied: six in /opt/anaconda3/lib/python3.12/site-packages (from requests-file->finance-datareader) (1.16.0)\n",
      "Downloading finance_datareader-0.9.94-py3-none-any.whl (89 kB)\n",
      "\u001b[2K   \u001b[38;2;114;156;31m━━━━━━━━━━━━━━━━━━━━━━━━━━━━━━━━━━━━━━━━\u001b[0m \u001b[32m89.3/89.3 kB\u001b[0m \u001b[31m5.5 MB/s\u001b[0m eta \u001b[36m0:00:00\u001b[0m\n",
      "\u001b[?25hInstalling collected packages: finance-datareader\n",
      "Successfully installed finance-datareader-0.9.94\n"
     ]
    }
   ],
   "source": [
    "!pip install -U finance-datareader"
   ]
  },
  {
   "cell_type": "code",
   "execution_count": 22,
   "id": "0fa5e561-d7f5-4803-a94f-266bfe7ea69c",
   "metadata": {},
   "outputs": [
    {
     "name": "stdout",
     "output_type": "stream",
     "text": [
      "Requirement already satisfied: matplotlib in /opt/anaconda3/lib/python3.12/site-packages (3.8.4)\n",
      "Requirement already satisfied: contourpy>=1.0.1 in /opt/anaconda3/lib/python3.12/site-packages (from matplotlib) (1.2.0)\n",
      "Requirement already satisfied: cycler>=0.10 in /opt/anaconda3/lib/python3.12/site-packages (from matplotlib) (0.11.0)\n",
      "Requirement already satisfied: fonttools>=4.22.0 in /opt/anaconda3/lib/python3.12/site-packages (from matplotlib) (4.51.0)\n",
      "Requirement already satisfied: kiwisolver>=1.3.1 in /opt/anaconda3/lib/python3.12/site-packages (from matplotlib) (1.4.4)\n",
      "Requirement already satisfied: numpy>=1.21 in /opt/anaconda3/lib/python3.12/site-packages (from matplotlib) (1.26.4)\n",
      "Requirement already satisfied: packaging>=20.0 in /opt/anaconda3/lib/python3.12/site-packages (from matplotlib) (23.2)\n",
      "Requirement already satisfied: pillow>=8 in /opt/anaconda3/lib/python3.12/site-packages (from matplotlib) (10.3.0)\n",
      "Requirement already satisfied: pyparsing>=2.3.1 in /opt/anaconda3/lib/python3.12/site-packages (from matplotlib) (3.0.9)\n",
      "Requirement already satisfied: python-dateutil>=2.7 in /opt/anaconda3/lib/python3.12/site-packages (from matplotlib) (2.9.0.post0)\n",
      "Requirement already satisfied: six>=1.5 in /opt/anaconda3/lib/python3.12/site-packages (from python-dateutil>=2.7->matplotlib) (1.16.0)\n"
     ]
    }
   ],
   "source": [
    "!pip install matplotlib"
   ]
  },
  {
   "cell_type": "code",
   "execution_count": 30,
   "id": "07b779ef-c25d-40db-91ee-c3eb6a858fd0",
   "metadata": {},
   "outputs": [
    {
     "name": "stdout",
     "output_type": "stream",
     "text": [
      "Requirement already satisfied: plotly in /opt/anaconda3/lib/python3.12/site-packages (5.22.0)\n",
      "Requirement already satisfied: tenacity>=6.2.0 in /opt/anaconda3/lib/python3.12/site-packages (from plotly) (8.2.2)\n",
      "Requirement already satisfied: packaging in /opt/anaconda3/lib/python3.12/site-packages (from plotly) (23.2)\n"
     ]
    }
   ],
   "source": [
    "!pip install plotly"
   ]
  },
  {
   "cell_type": "code",
   "execution_count": 15,
   "id": "44a738f9-5549-4d6e-a120-b0aa569791d4",
   "metadata": {},
   "outputs": [],
   "source": [
    "import FinanceDataReader as fdr\n",
    "import matplotlib.pyplot as plt"
   ]
  },
  {
   "cell_type": "code",
   "execution_count": 34,
   "id": "851e3ab3-51fd-4249-97b5-d4f6d0e74c4e",
   "metadata": {},
   "outputs": [
    {
     "data": {
      "image/png": "[encoded data removed]",
      "text/plain": [
       "<Figure size 640x480 with 1 Axes>"
      ]
     },
     "metadata": {},
     "output_type": "display_data"
    }
   ],
   "source": [
    "AAPL = fdr.DataReader(\"AAPL\")  # NASDAQ 애플 종목코드 AAPL\n",
    "AAPL['Close'].plot()           # Close 종가\n",
    "plt.show()"
   ]
  },
  {
   "cell_type": "code",
   "execution_count": 42,
   "id": "5681b83b-d5e7-4d7e-a426-5f82e87e2544",
   "metadata": {},
   "outputs": [
    {
     "data": {
      "image/png": "[encoded data removed]",
      "text/plain": [
       "<Figure size 640x480 with 1 Axes>"
      ]
     },
     "metadata": {},
     "output_type": "display_data"
    }
   ],
   "source": [
    "SAMSUNG = fdr.DataReader(\"005930\")\n",
    "SAMSUNG.head()\n",
    "SAMSUNG['Close'].plot()\n",
    "plt.show()"
   ]
  },
  {
   "cell_type": "code",
   "execution_count": 19,
   "id": "b033cb31-b19d-4a18-9683-e40f594af4d7",
   "metadata": {},
   "outputs": [
    {
     "data": {
      "image/png": "[encoded data removed]",
      "text/plain": [
       "<Figure size 640x480 with 1 Axes>"
      ]
     },
     "metadata": {},
     "output_type": "display_data"
    }
   ],
   "source": [
    "TSLA_2024 = fdr.DataReader(\"TSLA\", \"2017-01-01\", \"2024-09-27\")\n",
    "TSLA_2024.head()\n",
    "TSLA_2024['Close'].plot()\n",
    "plt.show()"
   ]
  },
  {
   "cell_type": "code",
   "execution_count": 21,
   "id": "5b1f4a2c-e783-493c-b95c-089e19413190",
   "metadata": {},
   "outputs": [
    {
     "data": {
      "text/html": [
       "<div>\n",
       "<style scoped>\n",
       "    .dataframe tbody tr th:only-of-type {\n",
       "        vertical-align: middle;\n",
       "    }\n",
       "\n",
       "    .dataframe tbody tr th {\n",
       "        vertical-align: top;\n",
       "    }\n",
       "\n",
       "    .dataframe thead th {\n",
       "        text-align: right;\n",
       "    }\n",
       "</style>\n",
       "<table border=\"1\" class=\"dataframe\">\n",
       "  <thead>\n",
       "    <tr style=\"text-align: right;\">\n",
       "      <th></th>\n",
       "      <th>Code</th>\n",
       "      <th>ISU_CD</th>\n",
       "      <th>Name</th>\n",
       "      <th>Market</th>\n",
       "      <th>Dept</th>\n",
       "      <th>Close</th>\n",
       "      <th>ChangeCode</th>\n",
       "      <th>Changes</th>\n",
       "      <th>ChagesRatio</th>\n",
       "      <th>Open</th>\n",
       "      <th>High</th>\n",
       "      <th>Low</th>\n",
       "      <th>Volume</th>\n",
       "      <th>Amount</th>\n",
       "      <th>Marcap</th>\n",
       "      <th>Stocks</th>\n",
       "      <th>MarketId</th>\n",
       "    </tr>\n",
       "  </thead>\n",
       "  <tbody>\n",
       "    <tr>\n",
       "      <th>0</th>\n",
       "      <td>005930</td>\n",
       "      <td>KR7005930003</td>\n",
       "      <td>삼성전자</td>\n",
       "      <td>KOSPI</td>\n",
       "      <td></td>\n",
       "      <td>61500</td>\n",
       "      <td>2</td>\n",
       "      <td>-2700</td>\n",
       "      <td>-4.21</td>\n",
       "      <td>64200</td>\n",
       "      <td>64300</td>\n",
       "      <td>61500</td>\n",
       "      <td>32377740</td>\n",
       "      <td>2023894980500</td>\n",
       "      <td>367141626825000</td>\n",
       "      <td>5969782550</td>\n",
       "      <td>STK</td>\n",
       "    </tr>\n",
       "    <tr>\n",
       "      <th>1</th>\n",
       "      <td>000660</td>\n",
       "      <td>KR7000660001</td>\n",
       "      <td>SK하이닉스</td>\n",
       "      <td>KOSPI</td>\n",
       "      <td></td>\n",
       "      <td>174600</td>\n",
       "      <td>2</td>\n",
       "      <td>-9200</td>\n",
       "      <td>-5.01</td>\n",
       "      <td>183700</td>\n",
       "      <td>183800</td>\n",
       "      <td>174600</td>\n",
       "      <td>4807760</td>\n",
       "      <td>857883746585</td>\n",
       "      <td>127109212929000</td>\n",
       "      <td>728002365</td>\n",
       "      <td>STK</td>\n",
       "    </tr>\n",
       "    <tr>\n",
       "      <th>2</th>\n",
       "      <td>373220</td>\n",
       "      <td>KR7373220003</td>\n",
       "      <td>LG에너지솔루션</td>\n",
       "      <td>KOSPI</td>\n",
       "      <td></td>\n",
       "      <td>414500</td>\n",
       "      <td>3</td>\n",
       "      <td>0</td>\n",
       "      <td>0.00</td>\n",
       "      <td>419500</td>\n",
       "      <td>430000</td>\n",
       "      <td>414500</td>\n",
       "      <td>443421</td>\n",
       "      <td>187216899500</td>\n",
       "      <td>96993000000000</td>\n",
       "      <td>234000000</td>\n",
       "      <td>STK</td>\n",
       "    </tr>\n",
       "    <tr>\n",
       "      <th>3</th>\n",
       "      <td>207940</td>\n",
       "      <td>KR7207940008</td>\n",
       "      <td>삼성바이오로직스</td>\n",
       "      <td>KOSPI</td>\n",
       "      <td></td>\n",
       "      <td>977000</td>\n",
       "      <td>2</td>\n",
       "      <td>-9000</td>\n",
       "      <td>-0.91</td>\n",
       "      <td>984000</td>\n",
       "      <td>1003000</td>\n",
       "      <td>973000</td>\n",
       "      <td>128099</td>\n",
       "      <td>126206836000</td>\n",
       "      <td>69536998000000</td>\n",
       "      <td>71174000</td>\n",
       "      <td>STK</td>\n",
       "    </tr>\n",
       "    <tr>\n",
       "      <th>4</th>\n",
       "      <td>005380</td>\n",
       "      <td>KR7005380001</td>\n",
       "      <td>현대차</td>\n",
       "      <td>KOSPI</td>\n",
       "      <td></td>\n",
       "      <td>244000</td>\n",
       "      <td>2</td>\n",
       "      <td>-10500</td>\n",
       "      <td>-4.13</td>\n",
       "      <td>255500</td>\n",
       "      <td>256000</td>\n",
       "      <td>244000</td>\n",
       "      <td>1019489</td>\n",
       "      <td>251340094000</td>\n",
       "      <td>51097550604000</td>\n",
       "      <td>209416191</td>\n",
       "      <td>STK</td>\n",
       "    </tr>\n",
       "  </tbody>\n",
       "</table>\n",
       "</div>"
      ],
      "text/plain": [
       "     Code        ISU_CD      Name Market Dept   Close ChangeCode  Changes  \\\n",
       "0  005930  KR7005930003      삼성전자  KOSPI        61500          2    -2700   \n",
       "1  000660  KR7000660001    SK하이닉스  KOSPI       174600          2    -9200   \n",
       "2  373220  KR7373220003  LG에너지솔루션  KOSPI       414500          3        0   \n",
       "3  207940  KR7207940008  삼성바이오로직스  KOSPI       977000          2    -9000   \n",
       "4  005380  KR7005380001       현대차  KOSPI       244000          2   -10500   \n",
       "\n",
       "   ChagesRatio    Open     High     Low    Volume         Amount  \\\n",
       "0        -4.21   64200    64300   61500  32377740  2023894980500   \n",
       "1        -5.01  183700   183800  174600   4807760   857883746585   \n",
       "2         0.00  419500   430000  414500    443421   187216899500   \n",
       "3        -0.91  984000  1003000  973000    128099   126206836000   \n",
       "4        -4.13  255500   256000  244000   1019489   251340094000   \n",
       "\n",
       "            Marcap      Stocks MarketId  \n",
       "0  367141626825000  5969782550      STK  \n",
       "1  127109212929000   728002365      STK  \n",
       "2   96993000000000   234000000      STK  \n",
       "3   69536998000000    71174000      STK  \n",
       "4   51097550604000   209416191      STK  "
      ]
     },
     "execution_count": 21,
     "metadata": {},
     "output_type": "execute_result"
    }
   ],
   "source": [
    "df_krw = fdr.StockListing(\"KRX\") # 한국거래소 상장종목 정보\n",
    "df_krw.head()"
   ]
  },
  {
   "cell_type": "code",
   "execution_count": 35,
   "id": "3735b7e1-0ada-4ed7-824f-403723b13785",
   "metadata": {},
   "outputs": [],
   "source": [
    "# for idx, row in df_krw.iterrows():\n",
    "#     print(idx, row['Name'], row['Code'])"
   ]
  },
  {
   "cell_type": "code",
   "execution_count": 31,
   "id": "bc190860-846d-4c76-88d3-2c49c5dd7b33",
   "metadata": {},
   "outputs": [
    {
     "name": "stdout",
     "output_type": "stream",
     "text": [
      "Requirement already satisfied: openpyxl in /opt/anaconda3/lib/python3.12/site-packages (3.1.2)\n",
      "Requirement already satisfied: et-xmlfile in /opt/anaconda3/lib/python3.12/site-packages (from openpyxl) (1.1.0)\n"
     ]
    }
   ],
   "source": [
    "!pip install openpyxl"
   ]
  },
  {
   "cell_type": "code",
   "execution_count": 45,
   "id": "5a935977-b502-4047-8d85-900075e626b0",
   "metadata": {},
   "outputs": [],
   "source": [
    "with pd.ExcelWriter(\"KRW.xlsx\", engine=\"openpyxl\") as writer:\n",
    "    df_krw.to_excel(writer, sheet_name=\"sheet1\")"
   ]
  },
  {
   "cell_type": "code",
   "execution_count": null,
   "id": "3e4682a1-63bc-4ba0-913a-bbe83d138701",
   "metadata": {},
   "outputs": [],
   "source": []
  }
 ],
 "metadata": {
  "kernelspec": {
   "display_name": "Python 3 (ipykernel)",
   "language": "python",
   "name": "python3"
  },
  "language_info": {
   "codemirror_mode": {
    "name": "ipython",
    "version": 3
   },
   "file_extension": ".py",
   "mimetype": "text/x-python",
   "name": "python",
   "nbconvert_exporter": "python",
   "pygments_lexer": "ipython3",
   "version": "3.12.2"
  }
 },
 "nbformat": 4,
 "nbformat_minor": 5
}
