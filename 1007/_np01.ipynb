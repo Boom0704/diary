{
 "cells": [
  {
   "cell_type": "code",
   "execution_count": 2,
   "id": "9b97bd0f-cd74-44ed-87ca-5e49aa07d26d",
   "metadata": {},
   "outputs": [
    {
     "data": {
      "image/png": "[encoded data removed]",
      "text/plain": [
       "<Figure size 800x500 with 1 Axes>"
      ]
     },
     "metadata": {},
     "output_type": "display_data"
    }
   ],
   "source": [
    "import matplotlib.pyplot as  plt\n",
    "import numpy as np\n",
    "\n",
    "x = [2,4,6,8]\n",
    "y = [81, 93, 91, 97]\n",
    "\n",
    "plt.figure(figsize=(8,5))\n",
    "plt.scatter(x,y)\n",
    "plt.show()\n",
    "\n",
    "ab = [6.3, 76]"
   ]
  },
  {
   "cell_type": "code",
   "execution_count": 3,
   "id": "08ed0cfb-349b-4802-a27e-ea9aabd38d4c",
   "metadata": {},
   "outputs": [
    {
     "name": "stdout",
     "output_type": "stream",
     "text": [
      "공부시간       실제점수       예측점수      \n",
      "2          81         88.60     \n",
      "4          93         101.20    \n",
      "6          91         113.80    \n",
      "8          97         126.40    \n",
      "\n",
      "총 오차(MSE): 377.30\n"
     ]
    }
   ],
   "source": [
    "# MSE(Mean Squared Error) 계산 함수\n",
    "def mse(y, y_hat):\n",
    "    return ((y - y_hat) ** 2).mean()\n",
    "\n",
    "# 예측 함수\n",
    "def predict(x):\n",
    "    return ab[0] * x + ab[1]\n",
    "\n",
    "# MSE 값 계산 함수\n",
    "def mse_val(y, result):\n",
    "    return mse(np.array(y), np.array(result))\n",
    "\n",
    "# 예측값을 저장할 리스트\n",
    "arr = []\n",
    "\n",
    "# 각 x 값에 대해 예측 값 계산\n",
    "for i in range(len(x)):\n",
    "    arr.append(predict(x[i]))\n",
    "\n",
    "# 총 오차(MSE) 계산\n",
    "total_mse = mse_val(y, arr)\n",
    "\n",
    "# 각 x와 y에 대해 실제값과 예측값 출력\n",
    "print(f\"{'공부시간':<10} {'실제점수':<10} {'예측점수':<10}\")\n",
    "for i in range(len(x)):\n",
    "    print(f\"{x[i]:<10} {y[i]:<10} {arr[i]:<10.2f}\")\n",
    "\n",
    "# 총 오차(MSE) 출력\n",
    "print(f\"\\n총 오차(MSE): {total_mse:.2f}\")"
   ]
  },
  {
   "cell_type": "code",
   "execution_count": 9,
   "id": "de52885c-e864-4bfc-9ec1-84c77c0463ed",
   "metadata": {},
   "outputs": [
    {
     "name": "stdout",
     "output_type": "stream",
     "text": [
      "일반 배열 [1, 2, 3]\n",
      "ndarry [1 2 3]\n"
     ]
    }
   ],
   "source": [
    "import numpy as np\n",
    "\n",
    "python_arr = [1,2,3]\n",
    "np_arr1 = np.array(python_arr)\n",
    "print('일반 배열', python_arr)\n",
    "print('ndarry', np_arr1)"
   ]
  },
  {
   "cell_type": "code",
   "execution_count": 23,
   "id": "df676516-9c95-461e-94f2-0112fc38b0da",
   "metadata": {},
   "outputs": [
    {
     "name": "stdout",
     "output_type": "stream",
     "text": [
      "<class 'numpy.ndarray'> (3,) 1\n",
      "<class 'numpy.ndarray'> (3, 3) 2\n",
      "<class 'numpy.ndarray'> (2, 2, 3) 3\n"
     ]
    }
   ],
   "source": [
    "np_arr2 =np.array([[1,2,3],[4,5,6],[7,8,9]])\n",
    "np_arr3 =np.array([[[1,2,3],[4,5,6]],[[7,8,9],[7,8,9]]])\n",
    "print(type(np_arr1), np_arr1.shape, np_arr1.ndim)\n",
    "print(type(np_arr2), np_arr2.shape, np_arr2.ndim)\n",
    "print(type(np_arr3), np_arr3.shape, np_arr3.ndim)"
   ]
  },
  {
   "cell_type": "code",
   "execution_count": 29,
   "id": "a56b70ba-3907-4798-ac09-c69fa7ed0068",
   "metadata": {},
   "outputs": [
    {
     "name": "stdout",
     "output_type": "stream",
     "text": [
      "[[2 3]\n",
      " [5 6]\n",
      " [8 9]]\n"
     ]
    }
   ],
   "source": [
    "print(np_arr2[:,1:3]) #두번째, 세번째의 모든행"
   ]
  },
  {
   "cell_type": "code",
   "execution_count": 35,
   "id": "95059a83-7a71-4645-a35d-2dccbd4fe166",
   "metadata": {},
   "outputs": [
    {
     "name": "stdout",
     "output_type": "stream",
     "text": [
      "[2 4 6]\n",
      "[3 6 9]\n",
      "[[ 1  4  9]\n",
      " [ 4 10 18]\n",
      " [ 7 16 27]]\n"
     ]
    }
   ],
   "source": [
    "print(np_arr1+np_arr1)\n",
    "print(np_arr1*3)\n",
    "print(np_arr1*np_arr2)"
   ]
  },
  {
   "cell_type": "code",
   "execution_count": 69,
   "id": "ef381ee4-74b2-4734-a354-17af4d5e4c65",
   "metadata": {},
   "outputs": [
    {
     "name": "stdout",
     "output_type": "stream",
     "text": [
      "45\n",
      "5.0\n",
      "[12 15 18]\n",
      "[ 6 15 24]\n"
     ]
    }
   ],
   "source": [
    "print(np.sum(np_arr2))\n",
    "print(np.mean(np_arr2))\n",
    "print(np_arr2.sum(axis=0)) #1은 행\n",
    "print(np_arr2.sum(axis=1)) #0은 열\n"
   ]
  },
  {
   "cell_type": "code",
   "execution_count": 61,
   "id": "97379203-0cc2-41ac-9c0c-60f9e7611bd9",
   "metadata": {},
   "outputs": [
    {
     "data": {
      "text/plain": [
       "array([1, 2, 3, 4, 5, 6, 7, 8, 9])"
      ]
     },
     "execution_count": 61,
     "metadata": {},
     "output_type": "execute_result"
    }
   ],
   "source": [
    "arr = np.arange(1, 10)\n",
    "arr"
   ]
  },
  {
   "cell_type": "code",
   "execution_count": 67,
   "id": "0cd6a5c3-1cef-45cd-9d48-2f85e4879c4c",
   "metadata": {},
   "outputs": [
    {
     "name": "stdout",
     "output_type": "stream",
     "text": [
      "285\n"
     ]
    }
   ],
   "source": [
    "print(np.dot(arr, arr))\n",
    "# 두 백터의 대응하는 요소를 곱한 . 후그  ㅕㄹ과를 모두 더하는 여산"
   ]
  },
  {
   "cell_type": "code",
   "execution_count": 71,
   "id": "08091eec-3777-4b7b-ba40-cc7e1e85ae52",
   "metadata": {},
   "outputs": [
    {
     "name": "stdout",
     "output_type": "stream",
     "text": [
      "[[1 4 7]\n",
      " [2 5 8]\n",
      " [3 6 9]]\n"
     ]
    }
   ],
   "source": [
    "print(np_arr2.transpose())\n",
    "# 행과 열을 서로 바꾸는 함수"
   ]
  }
 ],
 "metadata": {
  "kernelspec": {
   "display_name": "tech7",
   "language": "python",
   "name": "tech7"
  },
  "language_info": {
   "codemirror_mode": {
    "name": "ipython",
    "version": 3
   },
   "file_extension": ".py",
   "mimetype": "text/x-python",
   "name": "python",
   "nbconvert_exporter": "python",
   "pygments_lexer": "ipython3",
   "version": "3.12.2"
  }
 },
 "nbformat": 4,
 "nbformat_minor": 5
}
